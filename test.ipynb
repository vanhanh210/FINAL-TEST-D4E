{
 "cells": [
  {
   "cell_type": "code",
   "execution_count": 8,
   "id": "d3203edd",
   "metadata": {},
   "outputs": [
    {
     "data": {
      "text/plain": [
       "'Số hoàn hảo (hay còn gọi là số hoàn chỉnh, số hoàn thiện hoặc số hoàn thành)là một số nguyên dương mà tổng các ước nguyên dương thực sự của nó (các số nguyêndương bị nó chia hết ngoại trừ nó) bằng chính nó. In ra số lượng các số là số hoàn hảo trong khoảng giá trị từ 1 cho tới 10000. VD: 6, 28, 496 là các số hoàn hảo.'"
      ]
     },
     "execution_count": 8,
     "metadata": {},
     "output_type": "execute_result"
    }
   ],
   "source": [
    "\"Số hoàn hảo (hay còn gọi là số hoàn chỉnh, số hoàn thiện hoặc số hoàn thành)là một số nguyên dương mà tổng các ước nguyên dương thực sự của nó (các số nguyêndương bị nó chia hết ngoại trừ nó) bằng chính nó. In ra số lượng các số là số hoàn hảo trong khoảng giá trị từ 1 cho tới 10000. VD: 6, 28, 496 là các số hoàn hảo.\""
   ]
  },
  {
   "cell_type": "code",
   "execution_count": 4,
   "id": "06275ba8",
   "metadata": {},
   "outputs": [
    {
     "name": "stdout",
     "output_type": "stream",
     "text": [
      "Số lượng các số hoàn hảo trong khoảng giá trị từ 1 tới 10000 là: 4\n"
     ]
    }
   ],
   "source": [
    "def is_perfect_number(n):\n",
    "    # Tìm tất cả các ước nguyên dương của n\n",
    "    divisors = [i for i in range(1, n) if n % i == 0]\n",
    "    # Tính tổng các ước nguyên dương thực sự của n\n",
    "    sum_of_divisors = sum(divisors)\n",
    "    # Kiểm tra n có phải là số hoàn hảo hay không\n",
    "    if sum_of_divisors == n:\n",
    "        return True\n",
    "    return False\n",
    "\n",
    "# Tìm số lượng các số hoàn hảo trong khoảng giá trị từ 1 tới 10000\n",
    "count = 0\n",
    "for i in range(1, 10001):\n",
    "    if is_perfect_number(i):\n",
    "        count += 1\n",
    "\n",
    "print(\"Số lượng các số hoàn hảo trong khoảng giá trị từ 1 tới 10000 là:\", count)"
   ]
  },
  {
   "cell_type": "code",
   "execution_count": 5,
   "id": "19e64add",
   "metadata": {},
   "outputs": [
    {
     "name": "stdout",
     "output_type": "stream",
     "text": [
      "Tổng giá trị của các số nguyên tố là: 5736396\n",
      "Tổng giá trị của các số chẵn là: 25005000\n",
      "Tổng giá trị của các số là số chính phương là: 338350\n",
      "Tổng giá trị của các số là bội số của 10 là: 5005000\n"
     ]
    }
   ],
   "source": [
    "def is_prime(n):\n",
    "    if n <= 1:\n",
    "        return False\n",
    "    for i in range(2, int(n**0.5) + 1):\n",
    "        if n % i == 0:\n",
    "            return False\n",
    "    return True\n",
    "\n",
    "def is_square(n):\n",
    "    return n > 0 and int(n**0.5)**2 == n\n",
    "\n",
    "def is_multiple_of_10(n):\n",
    "    return n % 10 == 0\n",
    "\n",
    "sum_prime = 0\n",
    "sum_even = 0\n",
    "sum_square = 0\n",
    "sum_multiple_of_10 = 0\n",
    "\n",
    "for i in range(1, 10001):\n",
    "    if is_prime(i):\n",
    "        sum_prime += i\n",
    "    if i % 2 == 0:\n",
    "        sum_even += i\n",
    "    if is_square(i):\n",
    "        sum_square += i\n",
    "    if is_multiple_of_10(i):\n",
    "        sum_multiple_of_10 += i\n",
    "\n",
    "print(\"Tổng giá trị của các số nguyên tố là:\", sum_prime)\n",
    "print(\"Tổng giá trị của các số chẵn là:\", sum_even)\n",
    "print(\"Tổng giá trị của các số là số chính phương là:\", sum_square)\n",
    "print(\"Tổng giá trị của các số là bội số của 10 là:\", sum_multiple_of_10)"
   ]
  },
  {
   "cell_type": "code",
   "execution_count": 9,
   "id": "0e391ddf",
   "metadata": {},
   "outputs": [
    {
     "data": {
      "text/plain": [
       "'Câu 1 Lấy thông tin về Mã đơn hàng, mã sản phẩm, mã khách hàng, số lượng sản phẩm của những dòng dữ liệu thỏa điều kiện Ship Mode là Standard Class'"
      ]
     },
     "execution_count": 9,
     "metadata": {},
     "output_type": "execute_result"
    }
   ],
   "source": [
    "\"Câu 1 Lấy thông tin về Mã đơn hàng, mã sản phẩm, mã khách hàng, số lượng sản phẩm của những dòng dữ liệu thỏa điều kiện Ship Mode là Standard Class\""
   ]
  },
  {
   "cell_type": "code",
   "execution_count": 10,
   "id": "ce4fa4e7",
   "metadata": {},
   "outputs": [
    {
     "name": "stdout",
     "output_type": "stream",
     "text": [
      "            Order ID       Product ID Customer ID  Quantity\n",
      "3     US-2015-108966  FUR-TA-10000577    SO-20335         5\n",
      "4     US-2015-108966  OFF-ST-10000760    SO-20335         2\n",
      "5     CA-2014-115812  FUR-FU-10001487    BH-11710         7\n",
      "6     CA-2014-115812  OFF-AR-10002833    BH-11710         4\n",
      "7     CA-2014-115812  TEC-PH-10002275    BH-11710         6\n",
      "...              ...              ...         ...       ...\n",
      "9987  CA-2017-163629  TEC-AC-10001539    RA-19885         1\n",
      "9988  CA-2017-163629  TEC-PH-10004006    RA-19885         5\n",
      "9990  CA-2017-121258  FUR-FU-10000747    DB-13060         2\n",
      "9991  CA-2017-121258  TEC-PH-10003645    DB-13060         2\n",
      "9992  CA-2017-121258  OFF-PA-10004041    DB-13060         4\n",
      "\n",
      "[5968 rows x 4 columns]\n"
     ]
    }
   ],
   "source": [
    "import pandas as pd\n",
    "\n",
    "# Đọc file csv\n",
    "df = pd.read_csv(\"sales.csv\")\n",
    "\n",
    "# Lấy thông tin của những dòng thỏa điều kiện Ship Mode là Standard Class\n",
    "filtered_data = df[df[\"Ship Mode\"] == \"Standard Class\"][[\"Order ID\", \"Product ID\", \"Customer ID\", \"Quantity\"]]\n",
    "\n",
    "# In ra kết quả\n",
    "print(filtered_data)"
   ]
  },
  {
   "cell_type": "code",
   "execution_count": 11,
   "id": "6b6ba852",
   "metadata": {},
   "outputs": [
    {
     "data": {
      "text/plain": [
       "'Lấy thông tin về những mã đơn hàng (orderID) của những dòng dữ liệu thỏa mãn điều kiện sản phẩm (Product ID) thuộc category là Office Supplies và có quantity > 3 '"
      ]
     },
     "execution_count": 11,
     "metadata": {},
     "output_type": "execute_result"
    }
   ],
   "source": [
    "\"Lấy thông tin về những mã đơn hàng (orderID) của những dòng dữ liệu thỏa mãn điều kiện sản phẩm (Product ID) thuộc category là Office Supplies và có quantity > 3 \""
   ]
  },
  {
   "cell_type": "code",
   "execution_count": 13,
   "id": "28ccce2c",
   "metadata": {},
   "outputs": [
    {
     "name": "stdout",
     "output_type": "stream",
     "text": [
      "['CA-2014-115812' 'US-2015-118983' 'CA-2014-105893' ... 'US-2016-157728'\n",
      " 'CA-2015-100251' 'CA-2017-121258']\n"
     ]
    }
   ],
   "source": [
    "import pandas as pd\n",
    "\n",
    "# Đọc file csv vào DataFrame\n",
    "df = pd.read_csv('sales.csv')\n",
    "\n",
    "# Lọc ra các dòng dữ liệu thỏa mãn điều kiện\n",
    "condition = (df['Category'] == 'Office Supplies') & (df['Quantity'] > 3)\n",
    "filtered_df = df.loc[condition]\n",
    "\n",
    "# Lấy thông tin về tất cả mã đơn hàng\n",
    "order_ids = filtered_df['Order ID'].unique()\n",
    "\n",
    "# In ra kết quả\n",
    "print(order_ids)"
   ]
  },
  {
   "cell_type": "code",
   "execution_count": 14,
   "id": "9dc176a5",
   "metadata": {},
   "outputs": [
    {
     "data": {
      "text/plain": [
       "'Thống kê số lượng mã đơn hàng, số lượng các loại sản phẩm (product ID),tổng doanh thu và tổng lợi nhuận theo từng Category, sắp xếp theo thứ tự giảm dần của doanh thu'"
      ]
     },
     "execution_count": 14,
     "metadata": {},
     "output_type": "execute_result"
    }
   ],
   "source": [
    "\"Thống kê số lượng mã đơn hàng, số lượng các loại sản phẩm (product ID),tổng doanh thu và tổng lợi nhuận theo từng Category, sắp xếp theo thứ tự giảm dần của doanh thu\""
   ]
  },
  {
   "cell_type": "code",
   "execution_count": 27,
   "id": "0331b8a1",
   "metadata": {},
   "outputs": [
    {
     "name": "stdout",
     "output_type": "stream",
     "text": [
      "          Category  Number_of_Orders  Number_of_Products  Total_Sales  \\\n",
      "1  Office Supplies              3742                1083    719046.99   \n",
      "0        Furniture              1764                 375    741999.98   \n",
      "2       Technology              1544                 404    836154.10   \n",
      "\n",
      "   Total_Profit  \n",
      "1     122490.88  \n",
      "0      18451.25  \n",
      "2     145455.66  \n"
     ]
    }
   ],
   "source": [
    "import pandas as pd\n",
    "\n",
    "# read the sales data from CSV file\n",
    "sales = pd.read_csv('sales.csv')\n",
    "\n",
    "# group by category and calculate statistics\n",
    "stats = sales.groupby('Category').agg(\n",
    "    Number_of_Orders=('Order ID', 'nunique'),\n",
    "    Number_of_Products=('Product ID', 'nunique'),\n",
    "    Total_Sales=('Sales', 'sum'),\n",
    "    Total_Profit=('Profit', 'sum')\n",
    ").reset_index()\n",
    "\n",
    "# sort the result by Total_Sales in descending order\n",
    "stats = stats.sort_values('Total_Sales', ascending=True)\n",
    "\n",
    "print(stats)"
   ]
  },
  {
   "cell_type": "code",
   "execution_count": null,
   "id": "d0b282ad",
   "metadata": {},
   "outputs": [],
   "source": []
  }
 ],
 "metadata": {
  "kernelspec": {
   "display_name": "Python 3 (ipykernel)",
   "language": "python",
   "name": "python3"
  },
  "language_info": {
   "codemirror_mode": {
    "name": "ipython",
    "version": 3
   },
   "file_extension": ".py",
   "mimetype": "text/x-python",
   "name": "python",
   "nbconvert_exporter": "python",
   "pygments_lexer": "ipython3",
   "version": "3.10.9"
  }
 },
 "nbformat": 4,
 "nbformat_minor": 5
}
